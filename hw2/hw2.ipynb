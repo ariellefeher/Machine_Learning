{
 "cells": [
  {
   "cell_type": "markdown",
   "metadata": {
    "nbgrader": {
     "grade": false,
     "grade_id": "cell-6bd0516e7cb654f5",
     "locked": true,
     "schema_version": 1,
     "solution": false
    }
   },
   "source": [
    "# Exercise 2: Decision Trees\n",
    "\n",
    "In this assignment you will implement a Decision Tree algorithm as learned in class.\n",
    "\n",
    "## Do not start the exercise until you fully understand the submission guidelines.\n",
    "\n",
    "* The homework assignments are executed automatically. \n",
    "* Failure to comply with the following instructions will result in a significant penalty. \n",
    "* Appeals regarding your failure to read these instructions will be denied. \n",
    "* Kindly reminder: the homework assignments contribute 50% of the final grade.\n",
    "\n",
    "## Read the following instructions carefully:\n",
    "\n",
    "1. This Jupyter notebook contains all the step-by-step instructions needed for this exercise.\n",
    "1. Write **efficient**, **vectorized** code whenever possible. Some calculations in this exercise may take several minutes when implemented efficiently, and might take much longer otherwise. Unnecessary loops will result in point deductions.\n",
    "1. You are responsible for the correctness of your code and should add as many tests as you see fit to this jupyter notebook. Tests will not be graded nor checked.\n",
    "1. Complete the required functions in `hw2.py` script only. This exercise is graded automatically, and only the `hw2.py` script is tested.\n",
    "1. You are allowed to use functions and methods from the [Python Standard Library](https://docs.python.org/3/library/), numpy and pandas only. **Do not import anything else.**\n",
    "1. Your code must run without errors. Use at least `numpy` 1.15.4. Any code that cannot run will not be graded.\n",
    "1. Write your own code. Cheating will not be tolerated.\n",
    "1. Submission includes a zip file that contains the `hw2.py` script as well as this notebook, with your ID as the file name. For example, `hw2_123456789_987654321.zip` if you submitted in pairs and `hw2_123456789.zip` if you submitted the exercise alone. \n",
    "\n",
    "Please use only a **zip** file in your submission.\n",
    "\n",
    "---\n",
    "---\n",
    "\n",
    "## Please sign that you have read and understood the instructions: \n",
    "\n",
    "### 208578525, 336469358\n",
    "\n",
    "---\n",
    "---"
   ]
  },
  {
   "cell_type": "markdown",
   "metadata": {},
   "source": [
    "# I have read and understood the instructions: *** YOUR ID HERE ***"
   ]
  },
  {
   "cell_type": "code",
   "execution_count": 1,
   "metadata": {
    "nbgrader": {
     "grade": false,
     "grade_id": "cell-ed9fe7b1026e33cb",
     "locked": true,
     "schema_version": 1,
     "solution": false
    }
   },
   "outputs": [],
   "source": [
    "import numpy as np\n",
    "import pandas as pd\n",
    "import matplotlib.pyplot as plt\n",
    "\n",
    "# make the notebook automatically reload external python modules\n",
    "%load_ext autoreload\n",
    "%autoreload 2"
   ]
  },
  {
   "cell_type": "markdown",
   "metadata": {
    "nbgrader": {
     "grade": false,
     "grade_id": "cell-c6ac605270c2b091",
     "locked": true,
     "schema_version": 1,
     "solution": false
    }
   },
   "source": [
    "## Warmup - OOP in python\n",
    "\n",
    "Our desicion tree will be implemented using a dedicated python class. Python classes are very similar to classes in other object oriented programming languages you might be familiar with.\n",
    "\n",
    "\n",
    "You can use the following [site](https://jeffknupp.com/blog/2014/06/18/improve-your-python-python-classes-and-object-oriented-programming/) to learn about classes in python."
   ]
  },
  {
   "cell_type": "code",
   "execution_count": 2,
   "metadata": {},
   "outputs": [],
   "source": [
    "class Node(object):\n",
    "    def __init__(self, data):\n",
    "        self.data = data\n",
    "        self.children = []\n",
    "\n",
    "    def add_child(self, node):\n",
    "        self.children.append(node)"
   ]
  },
  {
   "cell_type": "code",
   "execution_count": 3,
   "metadata": {},
   "outputs": [
    {
     "data": {
      "text/plain": [
       "[<__main__.Node at 0x1e40e71f0d0>, <__main__.Node at 0x1e40e71f350>]"
      ]
     },
     "execution_count": 3,
     "metadata": {},
     "output_type": "execute_result"
    }
   ],
   "source": [
    "n = Node(5)\n",
    "p = Node(6)\n",
    "q = Node(7)\n",
    "n.add_child(p)\n",
    "n.add_child(q)\n",
    "n.children"
   ]
  },
  {
   "cell_type": "markdown",
   "metadata": {
    "nbgrader": {
     "grade": false,
     "grade_id": "cell-2f1ceb251c649b62",
     "locked": true,
     "schema_version": 1,
     "solution": false
    }
   },
   "source": [
    "## Data preprocessing\n",
    "\n",
    "For the following exercise, we will use a dataset containing mushroom data `agaricus-lepiota.csv`. \n",
    "\n",
    "This data set includes descriptions of hypothetical samples corresponding to 23 species of gilled mushrooms in the Agaricus and Lepiota Family. Each species is identified as definitely edible, definitely poisonous, or of unknown edibility and not recommended. This latter class was combined with the poisonous\n",
    "one (=there are only two classes **edible** and **poisonous**). \n",
    "    \n",
    "The dataset contains 8124 observations with 21 features and the class:\n",
    "1. cap-shape: bell=b,conical=c,convex=x,flat=f,knobbed=k,sunken=s\n",
    "1. cap-surface: fibrous=f,grooves=g,scaly=y,smooth=s\n",
    "1. cap-color: brown=n,buff=b,cinnamon=c,gray=g,green=r,pink=p,purple=u,red=e,white=w,yellow=y\n",
    "1. bruises: bruises=t,no=f\n",
    "1. odor: almond=a,anise=l,creosote=c,fishy=y,foul=f, musty=m,none=n,pungent=p,spicy=s\n",
    "1. gill-attachment: attached=a,descending=d,free=f,notched=n\n",
    "1. gill-spacing: close=c,crowded=w,distant=d\n",
    "1. gill-size: broad=b,narrow=n\n",
    "1. gill-color: black=k,brown=n,buff=b,chocolate=h,gray=g,green=r,orange=o,pink=p,purple=u,red=e,white=w,yellow=y\n",
    "1. stalk-shape: enlarging=e,tapering=t\n",
    "1. stalk-surface-above-ring: fibrous=f,scaly=y,silky=k,smooth=s\n",
    "1. stalk-surface-below-ring: fibrous=f,scaly=y,silky=k,smooth=s\n",
    "1. stalk-color-above-ring: brown=n,buff=b,cinnamon=c,gray=g,orange=o,pink=p,red=e,white=w,yellow=y\n",
    "1. stalk-color-below-ring: brown=n,buff=b,cinnamon=c,gray=g,orange=o,pink=p,red=e,white=w,yellow=y\n",
    "1. veil-type: partial=p,universal=u\n",
    "1. veil-color: brown=n,orange=o,white=w,yellow=y\n",
    "1. ring-number: none=n,one=o,two=t\n",
    "1. ring-type: cobwebby=c,evanescent=e,flaring=f,large=l,none=n,pendant=p,sheathing=s,zone=z\n",
    "1. spore-print-color: black=k,brown=n,buff=b,chocolate=h,green=r,orange=o,purple=u,white=w,yellow=y\n",
    "1. population: abundant=a,clustered=c,numerous=n,scattered=s,several=v,solitary=y\n",
    "1. habitat: grasses=g,leaves=l,meadows=m,paths=p,urban=u,waste=w,woods=d\n",
    "\n",
    "First, we will read and explore the data using pandas and the `.read_csv` method. Pandas is an open source library providing high-performance, easy-to-use data structures and data analysis tools for the Python programming language."
   ]
  },
  {
   "cell_type": "code",
   "execution_count": 4,
   "metadata": {
    "nbgrader": {
     "grade": false,
     "grade_id": "cell-d79cb4542926ad3f",
     "locked": true,
     "schema_version": 1,
     "solution": false
    }
   },
   "outputs": [
    {
     "data": {
      "text/html": [
       "<div>\n",
       "<style scoped>\n",
       "    .dataframe tbody tr th:only-of-type {\n",
       "        vertical-align: middle;\n",
       "    }\n",
       "\n",
       "    .dataframe tbody tr th {\n",
       "        vertical-align: top;\n",
       "    }\n",
       "\n",
       "    .dataframe thead th {\n",
       "        text-align: right;\n",
       "    }\n",
       "</style>\n",
       "<table border=\"1\" class=\"dataframe\">\n",
       "  <thead>\n",
       "    <tr style=\"text-align: right;\">\n",
       "      <th></th>\n",
       "      <th>cap-shape</th>\n",
       "      <th>cap-surface</th>\n",
       "      <th>cap-color</th>\n",
       "      <th>bruises</th>\n",
       "      <th>odor</th>\n",
       "      <th>gill-attachment</th>\n",
       "      <th>gill-spacing</th>\n",
       "      <th>gill-size</th>\n",
       "      <th>gill-color</th>\n",
       "      <th>stalk-shape</th>\n",
       "      <th>...</th>\n",
       "      <th>stalk-color-above-ring</th>\n",
       "      <th>stalk-color-below-ring</th>\n",
       "      <th>veil-type</th>\n",
       "      <th>veil-color</th>\n",
       "      <th>ring-number</th>\n",
       "      <th>ring-type</th>\n",
       "      <th>spore-print-color</th>\n",
       "      <th>population</th>\n",
       "      <th>habitat</th>\n",
       "      <th>class</th>\n",
       "    </tr>\n",
       "  </thead>\n",
       "  <tbody>\n",
       "    <tr>\n",
       "      <th>0</th>\n",
       "      <td>x</td>\n",
       "      <td>s</td>\n",
       "      <td>n</td>\n",
       "      <td>t</td>\n",
       "      <td>p</td>\n",
       "      <td>f</td>\n",
       "      <td>c</td>\n",
       "      <td>n</td>\n",
       "      <td>k</td>\n",
       "      <td>e</td>\n",
       "      <td>...</td>\n",
       "      <td>w</td>\n",
       "      <td>w</td>\n",
       "      <td>p</td>\n",
       "      <td>w</td>\n",
       "      <td>o</td>\n",
       "      <td>p</td>\n",
       "      <td>k</td>\n",
       "      <td>s</td>\n",
       "      <td>u</td>\n",
       "      <td>p</td>\n",
       "    </tr>\n",
       "    <tr>\n",
       "      <th>1</th>\n",
       "      <td>x</td>\n",
       "      <td>s</td>\n",
       "      <td>y</td>\n",
       "      <td>t</td>\n",
       "      <td>a</td>\n",
       "      <td>f</td>\n",
       "      <td>c</td>\n",
       "      <td>b</td>\n",
       "      <td>k</td>\n",
       "      <td>e</td>\n",
       "      <td>...</td>\n",
       "      <td>w</td>\n",
       "      <td>w</td>\n",
       "      <td>p</td>\n",
       "      <td>w</td>\n",
       "      <td>o</td>\n",
       "      <td>p</td>\n",
       "      <td>n</td>\n",
       "      <td>n</td>\n",
       "      <td>g</td>\n",
       "      <td>e</td>\n",
       "    </tr>\n",
       "    <tr>\n",
       "      <th>2</th>\n",
       "      <td>b</td>\n",
       "      <td>s</td>\n",
       "      <td>w</td>\n",
       "      <td>t</td>\n",
       "      <td>l</td>\n",
       "      <td>f</td>\n",
       "      <td>c</td>\n",
       "      <td>b</td>\n",
       "      <td>n</td>\n",
       "      <td>e</td>\n",
       "      <td>...</td>\n",
       "      <td>w</td>\n",
       "      <td>w</td>\n",
       "      <td>p</td>\n",
       "      <td>w</td>\n",
       "      <td>o</td>\n",
       "      <td>p</td>\n",
       "      <td>n</td>\n",
       "      <td>n</td>\n",
       "      <td>m</td>\n",
       "      <td>e</td>\n",
       "    </tr>\n",
       "    <tr>\n",
       "      <th>3</th>\n",
       "      <td>x</td>\n",
       "      <td>y</td>\n",
       "      <td>w</td>\n",
       "      <td>t</td>\n",
       "      <td>p</td>\n",
       "      <td>f</td>\n",
       "      <td>c</td>\n",
       "      <td>n</td>\n",
       "      <td>n</td>\n",
       "      <td>e</td>\n",
       "      <td>...</td>\n",
       "      <td>w</td>\n",
       "      <td>w</td>\n",
       "      <td>p</td>\n",
       "      <td>w</td>\n",
       "      <td>o</td>\n",
       "      <td>p</td>\n",
       "      <td>k</td>\n",
       "      <td>s</td>\n",
       "      <td>u</td>\n",
       "      <td>p</td>\n",
       "    </tr>\n",
       "    <tr>\n",
       "      <th>4</th>\n",
       "      <td>x</td>\n",
       "      <td>s</td>\n",
       "      <td>g</td>\n",
       "      <td>f</td>\n",
       "      <td>n</td>\n",
       "      <td>f</td>\n",
       "      <td>w</td>\n",
       "      <td>b</td>\n",
       "      <td>k</td>\n",
       "      <td>t</td>\n",
       "      <td>...</td>\n",
       "      <td>w</td>\n",
       "      <td>w</td>\n",
       "      <td>p</td>\n",
       "      <td>w</td>\n",
       "      <td>o</td>\n",
       "      <td>e</td>\n",
       "      <td>n</td>\n",
       "      <td>a</td>\n",
       "      <td>g</td>\n",
       "      <td>e</td>\n",
       "    </tr>\n",
       "    <tr>\n",
       "      <th>...</th>\n",
       "      <td>...</td>\n",
       "      <td>...</td>\n",
       "      <td>...</td>\n",
       "      <td>...</td>\n",
       "      <td>...</td>\n",
       "      <td>...</td>\n",
       "      <td>...</td>\n",
       "      <td>...</td>\n",
       "      <td>...</td>\n",
       "      <td>...</td>\n",
       "      <td>...</td>\n",
       "      <td>...</td>\n",
       "      <td>...</td>\n",
       "      <td>...</td>\n",
       "      <td>...</td>\n",
       "      <td>...</td>\n",
       "      <td>...</td>\n",
       "      <td>...</td>\n",
       "      <td>...</td>\n",
       "      <td>...</td>\n",
       "      <td>...</td>\n",
       "    </tr>\n",
       "    <tr>\n",
       "      <th>8119</th>\n",
       "      <td>k</td>\n",
       "      <td>s</td>\n",
       "      <td>n</td>\n",
       "      <td>f</td>\n",
       "      <td>n</td>\n",
       "      <td>a</td>\n",
       "      <td>c</td>\n",
       "      <td>b</td>\n",
       "      <td>y</td>\n",
       "      <td>e</td>\n",
       "      <td>...</td>\n",
       "      <td>o</td>\n",
       "      <td>o</td>\n",
       "      <td>p</td>\n",
       "      <td>o</td>\n",
       "      <td>o</td>\n",
       "      <td>p</td>\n",
       "      <td>b</td>\n",
       "      <td>c</td>\n",
       "      <td>l</td>\n",
       "      <td>e</td>\n",
       "    </tr>\n",
       "    <tr>\n",
       "      <th>8120</th>\n",
       "      <td>x</td>\n",
       "      <td>s</td>\n",
       "      <td>n</td>\n",
       "      <td>f</td>\n",
       "      <td>n</td>\n",
       "      <td>a</td>\n",
       "      <td>c</td>\n",
       "      <td>b</td>\n",
       "      <td>y</td>\n",
       "      <td>e</td>\n",
       "      <td>...</td>\n",
       "      <td>o</td>\n",
       "      <td>o</td>\n",
       "      <td>p</td>\n",
       "      <td>n</td>\n",
       "      <td>o</td>\n",
       "      <td>p</td>\n",
       "      <td>b</td>\n",
       "      <td>v</td>\n",
       "      <td>l</td>\n",
       "      <td>e</td>\n",
       "    </tr>\n",
       "    <tr>\n",
       "      <th>8121</th>\n",
       "      <td>f</td>\n",
       "      <td>s</td>\n",
       "      <td>n</td>\n",
       "      <td>f</td>\n",
       "      <td>n</td>\n",
       "      <td>a</td>\n",
       "      <td>c</td>\n",
       "      <td>b</td>\n",
       "      <td>n</td>\n",
       "      <td>e</td>\n",
       "      <td>...</td>\n",
       "      <td>o</td>\n",
       "      <td>o</td>\n",
       "      <td>p</td>\n",
       "      <td>o</td>\n",
       "      <td>o</td>\n",
       "      <td>p</td>\n",
       "      <td>b</td>\n",
       "      <td>c</td>\n",
       "      <td>l</td>\n",
       "      <td>e</td>\n",
       "    </tr>\n",
       "    <tr>\n",
       "      <th>8122</th>\n",
       "      <td>k</td>\n",
       "      <td>y</td>\n",
       "      <td>n</td>\n",
       "      <td>f</td>\n",
       "      <td>y</td>\n",
       "      <td>f</td>\n",
       "      <td>c</td>\n",
       "      <td>n</td>\n",
       "      <td>b</td>\n",
       "      <td>t</td>\n",
       "      <td>...</td>\n",
       "      <td>w</td>\n",
       "      <td>w</td>\n",
       "      <td>p</td>\n",
       "      <td>w</td>\n",
       "      <td>o</td>\n",
       "      <td>e</td>\n",
       "      <td>w</td>\n",
       "      <td>v</td>\n",
       "      <td>l</td>\n",
       "      <td>p</td>\n",
       "    </tr>\n",
       "    <tr>\n",
       "      <th>8123</th>\n",
       "      <td>x</td>\n",
       "      <td>s</td>\n",
       "      <td>n</td>\n",
       "      <td>f</td>\n",
       "      <td>n</td>\n",
       "      <td>a</td>\n",
       "      <td>c</td>\n",
       "      <td>b</td>\n",
       "      <td>y</td>\n",
       "      <td>e</td>\n",
       "      <td>...</td>\n",
       "      <td>o</td>\n",
       "      <td>o</td>\n",
       "      <td>p</td>\n",
       "      <td>o</td>\n",
       "      <td>o</td>\n",
       "      <td>p</td>\n",
       "      <td>o</td>\n",
       "      <td>c</td>\n",
       "      <td>l</td>\n",
       "      <td>p</td>\n",
       "    </tr>\n",
       "  </tbody>\n",
       "</table>\n",
       "<p>8124 rows × 22 columns</p>\n",
       "</div>"
      ],
      "text/plain": [
       "     cap-shape cap-surface cap-color bruises odor gill-attachment  \\\n",
       "0            x           s         n       t    p               f   \n",
       "1            x           s         y       t    a               f   \n",
       "2            b           s         w       t    l               f   \n",
       "3            x           y         w       t    p               f   \n",
       "4            x           s         g       f    n               f   \n",
       "...        ...         ...       ...     ...  ...             ...   \n",
       "8119         k           s         n       f    n               a   \n",
       "8120         x           s         n       f    n               a   \n",
       "8121         f           s         n       f    n               a   \n",
       "8122         k           y         n       f    y               f   \n",
       "8123         x           s         n       f    n               a   \n",
       "\n",
       "     gill-spacing gill-size gill-color stalk-shape  ...  \\\n",
       "0               c         n          k           e  ...   \n",
       "1               c         b          k           e  ...   \n",
       "2               c         b          n           e  ...   \n",
       "3               c         n          n           e  ...   \n",
       "4               w         b          k           t  ...   \n",
       "...           ...       ...        ...         ...  ...   \n",
       "8119            c         b          y           e  ...   \n",
       "8120            c         b          y           e  ...   \n",
       "8121            c         b          n           e  ...   \n",
       "8122            c         n          b           t  ...   \n",
       "8123            c         b          y           e  ...   \n",
       "\n",
       "     stalk-color-above-ring stalk-color-below-ring veil-type veil-color  \\\n",
       "0                         w                      w         p          w   \n",
       "1                         w                      w         p          w   \n",
       "2                         w                      w         p          w   \n",
       "3                         w                      w         p          w   \n",
       "4                         w                      w         p          w   \n",
       "...                     ...                    ...       ...        ...   \n",
       "8119                      o                      o         p          o   \n",
       "8120                      o                      o         p          n   \n",
       "8121                      o                      o         p          o   \n",
       "8122                      w                      w         p          w   \n",
       "8123                      o                      o         p          o   \n",
       "\n",
       "     ring-number ring-type spore-print-color population habitat class  \n",
       "0              o         p                 k          s       u     p  \n",
       "1              o         p                 n          n       g     e  \n",
       "2              o         p                 n          n       m     e  \n",
       "3              o         p                 k          s       u     p  \n",
       "4              o         e                 n          a       g     e  \n",
       "...          ...       ...               ...        ...     ...   ...  \n",
       "8119           o         p                 b          c       l     e  \n",
       "8120           o         p                 b          v       l     e  \n",
       "8121           o         p                 b          c       l     e  \n",
       "8122           o         e                 w          v       l     p  \n",
       "8123           o         p                 o          c       l     p  \n",
       "\n",
       "[8124 rows x 22 columns]"
      ]
     },
     "execution_count": 4,
     "metadata": {},
     "output_type": "execute_result"
    }
   ],
   "source": [
    "# load dataset\n",
    "data = pd.read_csv('agaricus-lepiota.csv')\n",
    "data"
   ]
  },
  {
   "cell_type": "markdown",
   "metadata": {},
   "source": [
    "One of the advantages of the Decision Tree algorithm is that almost no preprocessing is required. However, finding missing values is always required."
   ]
  },
  {
   "cell_type": "code",
   "execution_count": 5,
   "metadata": {},
   "outputs": [],
   "source": [
    "data = data.dropna(axis=1)"
   ]
  },
  {
   "cell_type": "markdown",
   "metadata": {},
   "source": [
    "We will split the dataset to `training` and `test` sets."
   ]
  },
  {
   "cell_type": "code",
   "execution_count": 6,
   "metadata": {},
   "outputs": [
    {
     "name": "stdout",
     "output_type": "stream",
     "text": [
      "Training dataset shape:  (6093, 22)\n",
      "Testing dataset shape:  (2031, 22)\n"
     ]
    }
   ],
   "source": [
    "from sklearn.model_selection import train_test_split\n",
    "# Making sure the last column will hold the labels\n",
    "X, y = data.drop('class', axis=1), data['class']\n",
    "X = np.column_stack([X,y])\n",
    "# split dataset using random_state to get the same split each time\n",
    "X_train, X_test = train_test_split(X, random_state=99)\n",
    "\n",
    "print(\"Training dataset shape: \", X_train.shape)\n",
    "print(\"Testing dataset shape: \", X_test.shape)"
   ]
  },
  {
   "cell_type": "markdown",
   "metadata": {
    "nbgrader": {
     "grade": false,
     "grade_id": "cell-fd7b0191f3f1e897",
     "locked": true,
     "schema_version": 1,
     "solution": false
    }
   },
   "source": [
    "## Impurity Measures (10 points)\n",
    "\n",
    "Impurity is a measure of how often a randomly chosen element from the set would be incorrectly labeled if it was randomly labeled according to the distribution of labels in the subset. Implement the functions `calc_gini` and `calc_entropy` in `hw2.py`. You are encouraged to test your implementation according to the expected behavior of those measures as seen in class. (5 points each)"
   ]
  },
  {
   "cell_type": "code",
   "execution_count": 7,
   "metadata": {},
   "outputs": [],
   "source": [
    "from hw2 import calc_gini, calc_entropy"
   ]
  },
  {
   "cell_type": "code",
   "execution_count": 8,
   "metadata": {
    "scrolled": true
   },
   "outputs": [
    {
     "data": {
      "text/plain": [
       "(0.4995636322379775, 0.9993703627906085)"
      ]
     },
     "execution_count": 8,
     "metadata": {},
     "output_type": "execute_result"
    }
   ],
   "source": [
    "##### Your tests here #####\n",
    "\n",
    "calc_gini(X), calc_entropy(X)"
   ]
  },
  {
   "cell_type": "markdown",
   "metadata": {},
   "source": [
    "## Goodness of Split (10 Points)\n",
    "\n",
    "Given some feature, the Goodnees of Split measures the reduction in the impurity if we split the data according to the feature.\n",
    "$$\n",
    "\\Delta\\varphi(S, A) = \\varphi(S) - \\sum_{v\\in Values(A)} \\frac{|S_v|}{|S|}\\varphi(S_v)\n",
    "$$\n",
    "\n",
    "In our implementation the goodness_of_split function will return either the Goodness of Split or the Gain Ratio as learned in class. You'll control the return value with the `gain_ratio` parameter. If this parameter will set to False (the default value) it will return the regular Goodness of Split. If it will set to True it will return the Gain Ratio.\n",
    "$$\n",
    "GainRatio(S,A)=\\frac{InformationGain(S,A)}{SplitInformation(S,A)}\n",
    "$$\n",
    "Where:\n",
    "$$\n",
    "InformationGain(S,A)=Goodness\\ of\\ Split\\ calculated\\ with\\ Entropy\\ as\\ the\\ Impurity\\ function \\\\\n",
    "SplitInformation(S,A)=- \\sum_{a\\in A} \\frac{|S_a|}{|S|}\\log\\frac{|S_a|}{|S|}\n",
    "$$\n",
    "\n",
    "Implement the function `goodness_of_split` in `hw2.py`."
   ]
  },
  {
   "cell_type": "code",
   "execution_count": 9,
   "metadata": {},
   "outputs": [],
   "source": [
    "from hw2 import goodness_of_split"
   ]
  },
  {
   "cell_type": "code",
   "execution_count": 10,
   "metadata": {},
   "outputs": [
    {
     "data": {
      "text/plain": [
       "(0.0199596578344422, 0.030727291723502415)"
      ]
     },
     "execution_count": 10,
     "metadata": {},
     "output_type": "execute_result"
    }
   ],
   "source": [
    "##### Your tests here #####\n",
    "\n",
    "# python support passing a function as arguments to another function.\n",
    "\n",
    "goodness_gini, split_values_gini = goodness_of_split(X, 0, calc_gini)\n",
    "goodness_entropy, split_values_entropy = goodness_of_split(X, 0, calc_entropy)\n",
    "\n",
    "goodness_gini, goodness_entropy"
   ]
  },
  {
   "cell_type": "markdown",
   "metadata": {},
   "source": [
    "## Building a Decision Tree (35 points)\n",
    "\n",
    "Implement the class `DecisionNode` in `hw2.py`.\n",
    "\n",
    "Use a Python class to construct the decision tree. Your class should support the following functionality:\n",
    "\n",
    "1. Initiating a node for a decision tree. You will need to use several class methods and class attributes that appear in `hw2.py`. \n",
    "1. Note the following attributes and methods for each node:\n",
    "    1. `self.data` holds the relevant data to split that node (ndarray).\n",
    "    1. `self.feature` holds the best feature that splits the node (int).\n",
    "    1. `self.pred` holds the prediction of the entire node (string).\n",
    "    1. `self.depth` holds the depth of the node (int).\n",
    "    1. `self.children` holds the objects of the children of the node (list).\n",
    "    1. `self.children_values` holds the value of the feature associated with the children (list).\n",
    "    1. `self.terminal` determines if the node is a leaf (boolean).\n",
    "    1. `self.chi` holds the chi square value (int).\n",
    "    1. `self.max_depth` holds the maximum allowed depth of the entire tree (int).\n",
    "    1. `self.gain_ratio` determines if gain_ratio is used (boolean).\n",
    "\n",
    "1. Your code should support both Gini and Entropy as impurity measures. \n",
    "1. The provided data includes categorical data. In this exercise, when splitting a node create the number of children needed according to the attribute unique values.\n",
    "1. Complete the class `DecisionNode`. Implementation details are up to you, but maintain the function signature and outputs. Make sure you are not changing the provided functions / variables we provided.\n",
    "1. You can create auxiliary functions, methods and variables.\n",
    "1. Complete the function `build_tree`. This function should get the training dataset and the impurity as inputs, initiate a root for the decision tree and construct the tree according to the procedure you learned in class."
   ]
  },
  {
   "cell_type": "code",
   "execution_count": 11,
   "metadata": {},
   "outputs": [],
   "source": [
    "from hw2 import build_tree"
   ]
  },
  {
   "cell_type": "code",
   "execution_count": 12,
   "metadata": {},
   "outputs": [],
   "source": [
    "##### Your tests here #####\n",
    "\n",
    "tree_gini = build_tree(data=X_train, impurity=calc_gini) # gini and goodness of split\n",
    "tree_entropy = build_tree(data=X_train, impurity=calc_entropy) # entropy and goodness of split\n",
    "tree_entropy_gain_ratio = build_tree(data=X_train, impurity=calc_entropy, gain_ratio=True) # entropy and gain ratio"
   ]
  },
  {
   "cell_type": "markdown",
   "metadata": {},
   "source": [
    "## Tree evaluation (10 points) \n",
    "\n",
    "Implement the functions `predict` and `calc_accuracy` in `hw2.py`"
   ]
  },
  {
   "cell_type": "code",
   "execution_count": 13,
   "metadata": {},
   "outputs": [],
   "source": [
    "from hw2 import calc_accuracy, predict"
   ]
  },
  {
   "cell_type": "markdown",
   "metadata": {},
   "source": [
    "After building the three trees using the training set, you should calculate the accuracy on the test set. For each tree print the training and test accuracy. Select the tree that gave you the best test accuracy. For the rest of the exercise, use that tree (when you asked to build another tree use the same impurity function and same gain_ratio flag). "
   ]
  },
  {
   "cell_type": "code",
   "execution_count": 14,
   "metadata": {},
   "outputs": [
    {
     "name": "stdout",
     "output_type": "stream",
     "text": [
      "gini 99.24503528639423 77.49876907927128\n",
      "entropy 99.40915805022156 77.25258493353027\n",
      "entropy gain ratio 99.63892991957984 78.53274249138356\n"
     ]
    }
   ],
   "source": [
    "##### Your tests here #####\n",
    "\n",
    "print('gini', calc_accuracy(tree_gini, X_train), calc_accuracy(tree_gini, X_test))\n",
    "print('entropy', calc_accuracy(tree_entropy, X_train), calc_accuracy(tree_entropy, X_test))\n",
    "print('entropy gain ratio', calc_accuracy(tree_entropy_gain_ratio, X_train), \n",
    "      calc_accuracy(tree_entropy_gain_ratio, X_test))"
   ]
  },
  {
   "cell_type": "markdown",
   "metadata": {},
   "source": [
    "## Depth pruning (15 points)\n",
    "\n",
    "In this part, we will investigate the effect the max depth of the tree has on the training and testing accuracies.\n",
    "\n",
    "For each max_depth value in the range [1, 2, 3, 4, 5, 6, 7, 8, 9, 10], construct a tree and prune it according to the max_depth value (don't let the tree to grow beyond this depth). Next, calculate the training and testing accuracy on the resulting trees. \n",
    "\n",
    "In order to debug and self-test your code, draw the training and testing accuracy as a function of the max_depth and verify that your results make sense. The red dot denotes the best model according to the testing accuracy.\n",
    "\n",
    "Implement the function `depth_pruning` in `hw2.py`."
   ]
  },
  {
   "cell_type": "code",
   "execution_count": 31,
   "metadata": {},
   "outputs": [
    {
     "name": "stdout",
     "output_type": "stream",
     "text": [
      "DEPTH=1 --> train acc. = 88.85606433612342 ||| test acc. = 88.52781880846874\n",
      "DEPTH=2 --> train acc. = 88.85606433612342 ||| test acc. = 88.52781880846874\n",
      "DEPTH=3 --> train acc. = 89.64385360249466 ||| test acc. = 89.31560807483999\n",
      "DEPTH=4 --> train acc. = 90.1854587231249 ||| test acc. = 89.561792220581\n",
      "DEPTH=5 --> train acc. = 90.30034465780403 ||| test acc. = 88.87247661250616\n",
      "DEPTH=6 --> train acc. = 90.69423929098967 ||| test acc. = 87.39537173806006\n",
      "DEPTH=7 --> train acc. = 91.81027408501559 ||| test acc. = 85.22895125553914\n",
      "DEPTH=8 --> train acc. = 93.1560807483998 ||| test acc. = 83.85032003938946\n",
      "DEPTH=9 --> train acc. = 94.64959789922862 ||| test acc. = 82.12703101920236\n",
      "DEPTH=10 --> train acc. = 96.11029049729197 ||| test acc. = 79.12358444116198\n"
     ]
    },
    {
     "data": {
      "image/png": "[encoded data removed]",
      "text/plain": [
       "<Figure size 640x480 with 1 Axes>"
      ]
     },
     "metadata": {},
     "output_type": "display_data"
    }
   ],
   "source": [
    "##### Your tests here #####\n",
    "from hw2 import depth_pruning\n",
    "depth_training_acc, depth_testing_acc = depth_pruning(X_train, X_test)\n",
    "\n",
    "plt.plot(range(1, 11), depth_training_acc, label='Training')\n",
    "plt.plot(range(1, 11), depth_testing_acc, label='Test')\n",
    "plt.scatter(np.argmax(depth_testing_acc)+1, max(depth_testing_acc), c='r')\n",
    "plt.legend();"
   ]
  },
  {
   "cell_type": "markdown",
   "metadata": {},
   "source": [
    "## Chi square pre-pruning (15 points)\n",
    "\n",
    "Consider the following p-value cut-off values: [1 (no pruning), 0.5, 0.25, 0.1, 0.05, 0.0001 (max pruning)]. For each value, construct a tree and prune it according to the cut-off value. Next, calculate the training and testing accuracy on the resulting trees. \n",
    "\n",
    "In order to debug and self-test your code, draw the training and testing accuracy as a function of the tuple (p-value, tree depth) and verify that your results make sense. The red dot denotes the best model according to the testing accuracy.\n",
    "\n",
    "Implement the function `chi_pruning` in `hw2.py`."
   ]
  },
  {
   "cell_type": "code",
   "execution_count": 32,
   "metadata": {},
   "outputs": [],
   "source": [
    "from hw2 import chi_pruning"
   ]
  },
  {
   "cell_type": "code",
   "execution_count": 70,
   "metadata": {
    "scrolled": true
   },
   "outputs": [
    {
     "name": "stdout",
     "output_type": "stream",
     "text": [
      "df=1, alpha_risk=0.5, chi_val=0.45 --> train acc. = 99.63892991957984 ||| test acc. = 78.53274249138356, ||| height=9\n",
      "df=1, alpha_risk=0.25, chi_val=1.32 --> train acc. = 99.32709666830789 ||| test acc. = 78.63121614967996, ||| height=9\n",
      "df=1, alpha_risk=0.1, chi_val=2.71 --> train acc. = 94.2064664368948 ||| test acc. = 79.02511078286558, ||| height=9\n",
      "df=1, alpha_risk=0.05, chi_val=3.84 --> train acc. = 93.40226489414081 ||| test acc. = 79.86213687838503, ||| height=9\n",
      "df=1, alpha_risk=0.0001, chi_val=100000 --> train acc. = 51.76431971114393 ||| test acc. = 50.615460364352536, ||| height=0\n"
     ]
    },
    {
     "data": {
      "image/png": "[encoded data removed]",
      "text/plain": [
       "<Figure size 640x480 with 1 Axes>"
      ]
     },
     "metadata": {},
     "output_type": "display_data"
    }
   ],
   "source": [
    "##### Your tests here #####\n",
    "\n",
    "chi_training_acc, chi_testing_acc, depth = chi_pruning(X_train, X_test)\n",
    "\n",
    "chi_depth_tuple = [str((x, y)) for x, y in zip([1, 0.5, 0.25, 0.1, 0.05, 0.0001], depth)][::-1]\n",
    "plt.plot(chi_depth_tuple, chi_training_acc[::-1], label='Training')\n",
    "plt.plot(chi_depth_tuple, chi_testing_acc[::-1], label='Test')\n",
    "plt.scatter(chi_depth_tuple[np.argmax(chi_testing_acc[::-1])], max(chi_testing_acc), c='r')\n",
    "plt.legend();"
   ]
  },
  {
   "cell_type": "markdown",
   "metadata": {},
   "source": [
    "Build the best 2 trees:\n",
    "1. tree_max_depth - the best tree according to max_depth pruning\n",
    "1. tree_chi - the best tree according to chi square pruning"
   ]
  },
  {
   "cell_type": "code",
   "execution_count": 72,
   "metadata": {},
   "outputs": [],
   "source": [
    "tree_max_depth = build_tree(X_train, calc_entropy, gain_ratio=True, max_depth=4)\n",
    "tree_chi = build_tree(X_train, calc_entropy, True, 2.71)"
   ]
  },
  {
   "cell_type": "markdown",
   "metadata": {},
   "source": [
    "## Number of Nodes (5 points) \n",
    "\n",
    "Of the two trees above we will choose the one with fewer nodes.\n",
    "\n",
    "Complete the function counts_nodes and print the number of nodes in each tree\n",
    "\n",
    "Implement the function `count_nodes` in `hw2.py`."
   ]
  },
  {
   "cell_type": "code",
   "execution_count": 73,
   "metadata": {},
   "outputs": [],
   "source": [
    "from hw2 import count_nodes"
   ]
  },
  {
   "cell_type": "code",
   "execution_count": 74,
   "metadata": {},
   "outputs": [
    {
     "name": "stdout",
     "output_type": "stream",
     "text": [
      "205\n",
      "2375\n"
     ]
    }
   ],
   "source": [
    "##### Your tests here #####\n",
    "\n",
    "print(count_nodes(tree_max_depth))\n",
    "print(count_nodes(tree_chi))"
   ]
  },
  {
   "cell_type": "markdown",
   "metadata": {},
   "source": [
    "## Print the tree\n",
    "\n",
    "We provided you with a function that should print your tree for your own debugging purposes. \n",
    "\n",
    "This code prints:\n",
    "```\n",
    "[ROOT, feature=X0],\n",
    "  [X0=a, feature=X2]\n",
    "    [X2=c, leaf]: [{1.0: 10}]\n",
    "    [X2=d, leaf]: [{0.0: 10}]\n",
    "  [X0=y, feature=X5], \n",
    "       [X5=a, leaf]: [{1.0: 5}]\n",
    "       [X5=s, leaf]: [{0.0: 10}]\n",
    "  [X0=e, leaf]: [{0.0: 25, 1.0: 50}]\n",
    "```"
   ]
  },
  {
   "cell_type": "code",
   "execution_count": 75,
   "metadata": {},
   "outputs": [],
   "source": [
    "def print_tree(node, depth=0, parent_feature='ROOT', feature_val='ROOT'):\n",
    "    '''\n",
    "    prints the tree according to the example above\n",
    "\n",
    "    Input:\n",
    "    - node: a node in the decision tree\n",
    "\n",
    "    This function has no return value\n",
    "    '''\n",
    "    if node.terminal == False:\n",
    "        if node.depth == 0:\n",
    "            print('[ROOT, feature=X{}]'.format(node.feature))\n",
    "        else:\n",
    "            print('{}[X{}={}, feature=X{}], Depth: {}'.format(depth*'  ', parent_feature, feature_val, \n",
    "                                                              node.feature, node.depth))\n",
    "        for i, child in enumerate(node.children):\n",
    "            print_tree(child, depth+1, node.feature, node.children_values[i])\n",
    "    else:\n",
    "        classes_count = {}\n",
    "        labels, counts = np.unique(node.data[:, -1], return_counts=True)\n",
    "        for l, c in zip(labels, counts):\n",
    "            classes_count[l] = c\n",
    "        print('{}[X{}={}, leaf]: [{}], Depth: {}'.format(depth*'  ', parent_feature, feature_val,\n",
    "                                                         classes_count, node.depth))"
   ]
  },
  {
   "cell_type": "code",
   "execution_count": 76,
   "metadata": {},
   "outputs": [
    {
     "name": "stdout",
     "output_type": "stream",
     "text": [
      "[ROOT, feature=X4]\n",
      "  [X4=a, feature=X2], Depth: 1\n",
      "    [X2=n, feature=X8], Depth: 2\n",
      "      [X8=n, feature=X19], Depth: 3\n",
      "        [X19=s, feature=X19], Depth: 4\n",
      "        [X19=y, feature=X19], Depth: 4\n",
      "      [X8=p, feature=X0], Depth: 3\n",
      "        [X0=f, feature=X0], Depth: 4\n",
      "        [X0=x, feature=X0], Depth: 4\n",
      "      [X8=w, feature=X18], Depth: 3\n",
      "        [X18=k, feature=X18], Depth: 4\n",
      "        [X18=n, feature=X18], Depth: 4\n",
      "    [X2=w, feature=X6], Depth: 2\n",
      "      [X6=c, feature=X8], Depth: 3\n",
      "        [X8=g, feature=X8], Depth: 4\n",
      "        [X8=k, feature=X8], Depth: 4\n",
      "        [X8=n, feature=X8], Depth: 4\n",
      "        [X8=w, feature=X8], Depth: 4\n",
      "      [X6=w, leaf]: [{'e': 21}], Depth: 3\n",
      "    [X2=y, feature=X6], Depth: 2\n",
      "      [X6=c, feature=X8], Depth: 3\n",
      "        [X8=g, feature=X8], Depth: 4\n",
      "        [X8=k, feature=X8], Depth: 4\n",
      "        [X8=n, feature=X8], Depth: 4\n",
      "        [X8=p, feature=X8], Depth: 4\n",
      "        [X8=w, feature=X8], Depth: 4\n",
      "      [X6=w, feature=X0], Depth: 3\n",
      "        [X0=f, feature=X0], Depth: 4\n",
      "        [X0=x, feature=X0], Depth: 4\n",
      "  [X4=c, feature=X6], Depth: 1\n",
      "    [X6=c, feature=X19], Depth: 2\n",
      "      [X19=s, feature=X1], Depth: 3\n",
      "        [X1=f, feature=X1], Depth: 4\n",
      "        [X1=s, feature=X1], Depth: 4\n",
      "      [X19=v, feature=X1], Depth: 3\n",
      "        [X1=f, feature=X1], Depth: 4\n",
      "        [X1=s, feature=X1], Depth: 4\n",
      "    [X6=w, feature=X2], Depth: 2\n",
      "      [X2=g, leaf]: [{'p': 25}], Depth: 3\n",
      "      [X2=p, feature=X19], Depth: 3\n",
      "        [X19=s, feature=X19], Depth: 4\n",
      "        [X19=v, feature=X19], Depth: 4\n",
      "      [X2=w, feature=X18], Depth: 3\n",
      "        [X18=k, feature=X18], Depth: 4\n",
      "        [X18=n, feature=X18], Depth: 4\n",
      "  [X4=f, feature=X10], Depth: 1\n",
      "    [X10=f, feature=X2], Depth: 2\n",
      "      [X2=b, feature=X19], Depth: 3\n",
      "        [X19=s, feature=X19], Depth: 4\n",
      "        [X19=v, feature=X19], Depth: 4\n",
      "      [X2=g, feature=X0], Depth: 3\n",
      "        [X0=f, feature=X0], Depth: 4\n",
      "        [X0=x, feature=X0], Depth: 4\n",
      "      [X2=w, feature=X8], Depth: 3\n",
      "        [X8=h, feature=X8], Depth: 4\n",
      "        [X8=p, feature=X8], Depth: 4\n",
      "        [X8=w, feature=X8], Depth: 4\n",
      "    [X10=k, feature=X11], Depth: 2\n",
      "      [X11=k, feature=X7], Depth: 3\n",
      "        [X7=b, feature=X7], Depth: 4\n",
      "        [X7=n, feature=X7], Depth: 4\n",
      "      [X11=s, feature=X1], Depth: 3\n",
      "        [X1=s, feature=X1], Depth: 4\n",
      "        [X1=y, feature=X1], Depth: 4\n",
      "    [X10=s, feature=X19], Depth: 2\n",
      "      [X19=s, feature=X0], Depth: 3\n",
      "        [X0=f, feature=X0], Depth: 4\n",
      "        [X0=x, feature=X0], Depth: 4\n",
      "      [X19=v, feature=X11], Depth: 3\n",
      "        [X11=f, feature=X11], Depth: 4\n",
      "        [X11=k, feature=X11], Depth: 4\n",
      "        [X11=s, feature=X11], Depth: 4\n",
      "  [X4=l, feature=X1], Depth: 1\n",
      "    [X1=f, feature=X0], Depth: 2\n",
      "      [X0=f, feature=X2], Depth: 3\n",
      "        [X2=w, feature=X2], Depth: 4\n",
      "        [X2=y, feature=X2], Depth: 4\n",
      "      [X0=x, leaf]: [{'e': 10}], Depth: 3\n",
      "    [X1=s, feature=X2], Depth: 2\n",
      "      [X2=w, feature=X18], Depth: 3\n",
      "        [X18=k, feature=X18], Depth: 4\n",
      "        [X18=n, feature=X18], Depth: 4\n",
      "        [X18=u, feature=X18], Depth: 4\n",
      "      [X2=y, feature=X8], Depth: 3\n",
      "        [X8=g, feature=X8], Depth: 4\n",
      "        [X8=k, feature=X8], Depth: 4\n",
      "        [X8=n, feature=X8], Depth: 4\n",
      "        [X8=p, feature=X8], Depth: 4\n",
      "        [X8=w, feature=X8], Depth: 4\n",
      "    [X1=y, feature=X20], Depth: 2\n",
      "      [X20=g, feature=X2], Depth: 3\n",
      "        [X2=n, feature=X2], Depth: 4\n",
      "        [X2=w, feature=X2], Depth: 4\n",
      "        [X2=y, feature=X2], Depth: 4\n",
      "      [X20=m, feature=X19], Depth: 3\n",
      "        [X19=n, feature=X19], Depth: 4\n",
      "        [X19=s, feature=X19], Depth: 4\n",
      "      [X20=p, feature=X8], Depth: 3\n",
      "        [X8=n, feature=X8], Depth: 4\n",
      "        [X8=p, feature=X8], Depth: 4\n",
      "        [X8=w, feature=X8], Depth: 4\n",
      "  [X4=m, feature=X0], Depth: 1\n",
      "    [X0=f, feature=X5], Depth: 2\n",
      "      [X5=a, leaf]: [{'p': 5}], Depth: 3\n",
      "      [X5=f, feature=X2], Depth: 3\n",
      "        [X2=c, feature=X2], Depth: 4\n",
      "        [X2=e, feature=X2], Depth: 4\n",
      "        [X2=n, feature=X2], Depth: 4\n",
      "    [X0=k, feature=X8], Depth: 2\n",
      "      [X8=w, feature=X2], Depth: 3\n",
      "        [X2=c, feature=X2], Depth: 4\n",
      "        [X2=e, feature=X2], Depth: 4\n",
      "        [X2=n, feature=X2], Depth: 4\n",
      "      [X8=y, leaf]: [{'p': 6}], Depth: 3\n",
      "    [X0=x, leaf]: [{'p': 7}], Depth: 2\n",
      "  [X4=n, feature=X7], Depth: 1\n",
      "    [X7=b, feature=X18], Depth: 2\n",
      "      [X18=b, feature=X0], Depth: 3\n",
      "        [X0=b, feature=X0], Depth: 4\n",
      "        [X0=f, feature=X0], Depth: 4\n",
      "        [X0=k, feature=X0], Depth: 4\n",
      "        [X0=x, feature=X0], Depth: 4\n",
      "      [X18=k, feature=X11], Depth: 3\n",
      "        [X11=f, feature=X11], Depth: 4\n",
      "        [X11=s, feature=X11], Depth: 4\n",
      "      [X18=n, feature=X15], Depth: 3\n",
      "        [X15=n, feature=X15], Depth: 4\n",
      "        [X15=o, feature=X15], Depth: 4\n",
      "        [X15=w, feature=X15], Depth: 4\n",
      "      [X18=o, feature=X19], Depth: 3\n",
      "        [X19=c, feature=X19], Depth: 4\n",
      "        [X19=v, feature=X19], Depth: 4\n",
      "      [X18=r, feature=X8], Depth: 3\n",
      "        [X8=g, feature=X8], Depth: 4\n",
      "        [X8=r, feature=X8], Depth: 4\n",
      "        [X8=w, feature=X8], Depth: 4\n",
      "      [X18=w, feature=X13], Depth: 3\n",
      "        [X13=e, feature=X13], Depth: 4\n",
      "        [X13=n, feature=X13], Depth: 4\n",
      "        [X13=w, feature=X13], Depth: 4\n",
      "      [X18=y, feature=X0], Depth: 3\n",
      "        [X0=b, feature=X0], Depth: 4\n",
      "        [X0=f, feature=X0], Depth: 4\n",
      "        [X0=k, feature=X0], Depth: 4\n",
      "        [X0=x, feature=X0], Depth: 4\n",
      "    [X7=n, feature=X3], Depth: 2\n",
      "      [X3=f, feature=X10], Depth: 3\n",
      "        [X10=f, feature=X10], Depth: 4\n",
      "        [X10=k, feature=X10], Depth: 4\n",
      "        [X10=s, feature=X10], Depth: 4\n",
      "        [X10=y, feature=X10], Depth: 4\n",
      "      [X3=t, leaf]: [{'p': 8}], Depth: 3\n",
      "  [X4=p, feature=X0], Depth: 1\n",
      "    [X0=f, feature=X18], Depth: 2\n",
      "      [X18=k, feature=X8], Depth: 3\n",
      "        [X8=k, feature=X8], Depth: 4\n",
      "        [X8=n, feature=X8], Depth: 4\n",
      "        [X8=p, feature=X8], Depth: 4\n",
      "        [X8=w, feature=X8], Depth: 4\n",
      "      [X18=n, feature=X8], Depth: 3\n",
      "        [X8=k, feature=X8], Depth: 4\n",
      "        [X8=n, feature=X8], Depth: 4\n",
      "        [X8=p, feature=X8], Depth: 4\n",
      "        [X8=w, feature=X8], Depth: 4\n",
      "    [X0=x, feature=X1], Depth: 2\n",
      "      [X1=s, feature=X2], Depth: 3\n",
      "        [X2=n, feature=X2], Depth: 4\n",
      "        [X2=w, feature=X2], Depth: 4\n",
      "      [X1=y, leaf]: [{'p': 45}], Depth: 3\n",
      "  [X4=s, feature=X13], Depth: 1\n",
      "    [X13=p, feature=X11], Depth: 2\n",
      "      [X11=k, feature=X20], Depth: 3\n",
      "        [X20=d, feature=X20], Depth: 4\n",
      "        [X20=l, feature=X20], Depth: 4\n",
      "        [X20=p, feature=X20], Depth: 4\n",
      "      [X11=s, feature=X0], Depth: 3\n",
      "        [X0=f, feature=X0], Depth: 4\n",
      "        [X0=k, feature=X0], Depth: 4\n",
      "        [X0=x, feature=X0], Depth: 4\n",
      "    [X13=w, feature=X12], Depth: 2\n",
      "      [X12=p, feature=X11], Depth: 3\n",
      "        [X11=k, feature=X11], Depth: 4\n",
      "        [X11=s, feature=X11], Depth: 4\n",
      "      [X12=w, feature=X0], Depth: 3\n",
      "        [X0=f, feature=X0], Depth: 4\n",
      "        [X0=k, feature=X0], Depth: 4\n",
      "        [X0=x, feature=X0], Depth: 4\n",
      "  [X4=y, feature=X1], Depth: 1\n",
      "    [X1=s, feature=X2], Depth: 2\n",
      "      [X2=e, feature=X20], Depth: 3\n",
      "        [X20=d, feature=X20], Depth: 4\n",
      "        [X20=l, feature=X20], Depth: 4\n",
      "        [X20=p, feature=X20], Depth: 4\n",
      "      [X2=n, feature=X12], Depth: 3\n",
      "        [X12=p, feature=X12], Depth: 4\n",
      "        [X12=w, feature=X12], Depth: 4\n",
      "    [X1=y, feature=X12], Depth: 2\n",
      "      [X12=p, feature=X0], Depth: 3\n",
      "        [X0=f, feature=X0], Depth: 4\n",
      "        [X0=k, feature=X0], Depth: 4\n",
      "        [X0=x, feature=X0], Depth: 4\n",
      "      [X12=w, feature=X0], Depth: 3\n",
      "        [X0=f, feature=X0], Depth: 4\n",
      "        [X0=k, feature=X0], Depth: 4\n",
      "        [X0=x, feature=X0], Depth: 4\n"
     ]
    }
   ],
   "source": [
    "print_tree(tree_max_depth)"
   ]
  },
  {
   "cell_type": "code",
   "execution_count": null,
   "metadata": {},
   "outputs": [],
   "source": []
  }
 ],
 "metadata": {
  "celltoolbar": "Create Assignment",
  "kernelspec": {
   "display_name": "Python 3 (ipykernel)",
   "language": "python",
   "name": "python3"
  },
  "language_info": {
   "codemirror_mode": {
    "name": "ipython",
    "version": 3
   },
   "file_extension": ".py",
   "mimetype": "text/x-python",
   "name": "python",
   "nbconvert_exporter": "python",
   "pygments_lexer": "ipython3",
   "version": "3.11.2"
  }
 },
 "nbformat": 4,
 "nbformat_minor": 4
}
